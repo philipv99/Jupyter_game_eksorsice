{
 "cells": [
  {
   "cell_type": "code",
   "execution_count": 68,
   "metadata": {},
   "outputs": [],
   "source": [
    "import random\n"
   ]
  },
  {
   "cell_type": "code",
   "execution_count": 69,
   "metadata": {},
   "outputs": [],
   "source": [
    "dice_art = {\n",
    "   1: (\n",
    "      \"┌─────────┐\",\n",
    "      \"│         │\",\n",
    "      \"│    ●    │\",\n",
    "      \"│         │\",\n",
    "      \"└─────────┘\",\n",
    "   ),\n",
    "  2: (\n",
    "      \"┌─────────┐\",\n",
    "      \"│ ●       │\",\n",
    "      \"│         │\",\n",
    "      \"│       ● │\",\n",
    "      \"└─────────┘\",\n",
    "   ),\n",
    "   3: (\n",
    "      \"┌─────────┐\",\n",
    "      \"│ ●       │\",\n",
    "      \"│    ●    │\",\n",
    "      \"│       ● │\",\n",
    "      \"└─────────┘\",\n",
    "   ),\n",
    "   4: (\n",
    "      \"┌─────────┐\",\n",
    "      \"│ ●     ● │\",\n",
    "      \"│         │\",\n",
    "      \"│ ●     ● │\",\n",
    "      \"└─────────┘\",\n",
    "   ),\n",
    "   5: (\n",
    "      \"┌─────────┐\",\n",
    "      \"│ ●     ● │\",\n",
    "      \"│    ●    │\",\n",
    "      \"│ ●     ● │\",\n",
    "      \"└─────────┘\",\n",
    "   ),\n",
    "   6: (\n",
    "      \"┌─────────┐\",\n",
    "      \"│ ●     ● │\",\n",
    "      \"│ ●     ● │\",\n",
    "      \"│ ●     ● │\",\n",
    "      \"└─────────┘\",\n",
    "   ),\n",
    "}\n",
    "DIE_HEIGHT = len(dice_art[1])\n",
    "DIE_WIDTH = len(dice_art[1][0])\n",
    "DIE_FACE_SEPARATOR = \" \""
   ]
  },
  {
   "cell_type": "code",
   "execution_count": 70,
   "metadata": {},
   "outputs": [],
   "source": [
    "def parse_input(input_string):\n",
    "   if input_string.strip() in {\"1\", \"2\", \"3\", \"4\", \"5\", \"6\"}:\n",
    "      return int(input_string)\n",
    "   \n",
    "   else:\n",
    "      print(\"enter number 1-6\")\n",
    "      raise SystemExit(1)"
   ]
  },
  {
   "cell_type": "code",
   "execution_count": 71,
   "metadata": {},
   "outputs": [],
   "source": [
    "def roll_dice(num_dice):\n",
    "   roll_result = []\n",
    "   for _ in range(num_dice):\n",
    "      roll = random.randint(1, 6)\n",
    "      roll_result.append(roll)\n",
    "   return roll_result"
   ]
  },
  {
   "cell_type": "code",
   "execution_count": 72,
   "metadata": {},
   "outputs": [],
   "source": [
    "def generate_dice_face_diagram(dice_values):\n",
    "   dice_faces = []\n",
    "   for value in dice_values:\n",
    "      dice_faces.append(dice_art[value])\n",
    "\n",
    "   dice_feces_row = []\n",
    "   for row_idx in range(DIE_HEIGHT):\n",
    "      row_componnents = []\n",
    "      for die in dice_faces:\n",
    "         row_componnents.append(die[row_idx])\n",
    "      row_string = DIE_FACE_SEPARATOR.join(row_componnents)\n",
    "      dice_feces_row.append(row_string)\n",
    "   \n",
    "   width = len(dice_feces_row[0])\n",
    "   diagram_header = \" RESUELST \".center(width, \"/\")\n",
    "\n",
    "   dice_faces_diagram = \"\\n\".join([diagram_header] + dice_feces_row)\n",
    "   return dice_faces_diagram"
   ]
  },
  {
   "cell_type": "code",
   "execution_count": 80,
   "metadata": {},
   "outputs": [
    {
     "name": "stdout",
     "output_type": "stream",
     "text": [
      "\n",
      "/////////////////////////////// RESUELST //////////////////////////////\n",
      "┌─────────┐ ┌─────────┐ ┌─────────┐ ┌─────────┐ ┌─────────┐ ┌─────────┐\n",
      "│ ●     ● │ │ ●       │ │ ●       │ │ ●       │ │ ●       │ │ ●     ● │\n",
      "│ ●     ● │ │    ●    │ │         │ │         │ │    ●    │ │ ●     ● │\n",
      "│ ●     ● │ │       ● │ │       ● │ │       ● │ │       ● │ │ ●     ● │\n",
      "└─────────┘ └─────────┘ └─────────┘ └─────────┘ └─────────┘ └─────────┘\n"
     ]
    }
   ],
   "source": [
    "num_dice_input = input(\"enter a number for dice roll\")\n",
    "num_dice = parse_input(num_dice_input)\n",
    "\n",
    "roll_result = roll_dice(num_dice)\n",
    "\n",
    "dice_diagram = generate_dice_face_diagram(roll_result)\n",
    "\n",
    "print(f\"\\n{dice_diagram}\")"
   ]
  }
 ],
 "metadata": {
  "kernelspec": {
   "display_name": "Python 3",
   "language": "python",
   "name": "python3"
  },
  "language_info": {
   "codemirror_mode": {
    "name": "ipython",
    "version": 3
   },
   "file_extension": ".py",
   "mimetype": "text/x-python",
   "name": "python",
   "nbconvert_exporter": "python",
   "pygments_lexer": "ipython3",
   "version": "3.11.3"
  }
 },
 "nbformat": 4,
 "nbformat_minor": 2
}
