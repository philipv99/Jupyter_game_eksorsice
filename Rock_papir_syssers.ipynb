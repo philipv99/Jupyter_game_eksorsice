{
 "cells": [
  {
   "cell_type": "code",
   "execution_count": 105,
   "metadata": {},
   "outputs": [],
   "source": [
    "import random\n",
    "from enum import IntEnum"
   ]
  },
  {
   "cell_type": "code",
   "execution_count": 106,
   "metadata": {},
   "outputs": [],
   "source": [
    "ROCK_ACTION = 0\n",
    "PAPER_ACTION = 1\n",
    "SCISSOR_ACTION =2"
   ]
  },
  {
   "cell_type": "code",
   "execution_count": 107,
   "metadata": {},
   "outputs": [],
   "source": [
    "class Action(IntEnum):\n",
    "   Rock = 0\n",
    "   Paper = 1\n",
    "   Scissors= 2"
   ]
  },
  {
   "cell_type": "code",
   "execution_count": 108,
   "metadata": {},
   "outputs": [],
   "source": [
    "def get_user_input():\n",
    "   choices = [f\"{action.name}[{action.value}]\" for action in Action]\n",
    "   choices_str = \", \".join(choices)\n",
    "   user_input = int(input(f\"Enter a choice ({choices_str}): \"))\n",
    "   selction = int(user_input)\n",
    "   action = Action(selction)\n",
    "   return action"
   ]
  },
  {
   "cell_type": "code",
   "execution_count": 109,
   "metadata": {},
   "outputs": [],
   "source": [
    "def pc_action():\n",
    "   possable_action = [Action.Rock, Action.Paper, Action.Scissors]\n",
    "   computer_actions = random.choice(possable_action)\n",
    "   return computer_actions "
   ]
  },
  {
   "cell_type": "code",
   "execution_count": 110,
   "metadata": {},
   "outputs": [
    {
     "name": "stdout",
     "output_type": "stream",
     "text": [
      "\n",
      "Youh chose Paper, computer chose Rock\n",
      "paper covers rock, you win!\n",
      "\n",
      "Youh chose Scissors, computer chose Rock\n",
      "rock smashes Scissors, u lose!\n",
      "\n",
      "Youh chose Rock, computer chose Scissors\n",
      "Rock smashes sciccors, you win!\n"
     ]
    }
   ],
   "source": [
    "playtime = 0\n",
    "while(playtime < 3):\n",
    "   user_action = get_user_input()\n",
    "   computer_actions = pc_action()\n",
    "   print(f\"\\nYouh chose {Action(user_action).name}, computer chose {Action(computer_actions).name}\")\n",
    "\n",
    "   if user_action == computer_actions:\n",
    "      print(f\"Both players chose {user_action}, it's a tie!\")\n",
    "   elif user_action == Action.Rock:\n",
    "      if computer_actions == Action.Scissors:\n",
    "         print(\"Rock smashes sciccors, you win!\")\n",
    "      else:\n",
    "         print(\"paper covers rock, you lose!\")\n",
    "   elif user_action == Action.Paper:\n",
    "      if computer_actions == Action.Rock:\n",
    "         print(\"paper covers rock, you win!\")\n",
    "      else:\n",
    "         print(\"scissors cuts paper, you lose!\")\n",
    "   elif user_action == Action.Scissors:\n",
    "      if computer_actions == Action.Paper:\n",
    "         print(\"Scissors cut paper, u win!\")\n",
    "      else:\n",
    "         print(\"rock smashes Scissors, u lose!\")\n",
    "   else:\n",
    "      print(\"input no mach\")\n",
    "   playtime += 1\n"
   ]
  }
 ],
 "metadata": {
  "kernelspec": {
   "display_name": "Python 3",
   "language": "python",
   "name": "python3"
  },
  "language_info": {
   "codemirror_mode": {
    "name": "ipython",
    "version": 3
   },
   "file_extension": ".py",
   "mimetype": "text/x-python",
   "name": "python",
   "nbconvert_exporter": "python",
   "pygments_lexer": "ipython3",
   "version": "3.11.3"
  }
 },
 "nbformat": 4,
 "nbformat_minor": 2
}
